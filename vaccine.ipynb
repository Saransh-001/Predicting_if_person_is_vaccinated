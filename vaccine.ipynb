{
 "cells": [
  {
   "cell_type": "code",
   "execution_count": 86,
   "metadata": {},
   "outputs": [],
   "source": [
    "import numpy as np\n",
    "import pandas as pd \n",
    "import matplotlib.pyplot as plt\n",
    "import seaborn as sns\n",
    "\n",
    "from sklearn.preprocessing import LabelEncoder\n",
    "\n",
    "from sklearn.model_selection import train_test_split\n",
    "from sklearn.linear_model import LinearRegression\n",
    "from sklearn.tree import DecisionTreeRegressor\n",
    "from sklearn.ensemble import AdaBoostRegressor\n",
    "from sklearn.ensemble import BaggingRegressor\n",
    "from sklearn.ensemble import RandomForestRegressor \n",
    "\n",
    "from sklearn.metrics import r2_score\n",
    "\n",
    "import warnings\n",
    "warnings.filterwarnings('ignore')\n"
   ]
  },
  {
   "cell_type": "code",
   "execution_count": 31,
   "metadata": {},
   "outputs": [],
   "source": [
    "df = pd.read_csv('https://raw.githubusercontent.com/Premalatha-success/Datasets/main/h1n1_vaccine_prediction.csv')"
   ]
  },
  {
   "cell_type": "code",
   "execution_count": 32,
   "metadata": {},
   "outputs": [
    {
     "data": {
      "text/html": [
       "<div>\n",
       "<style scoped>\n",
       "    .dataframe tbody tr th:only-of-type {\n",
       "        vertical-align: middle;\n",
       "    }\n",
       "\n",
       "    .dataframe tbody tr th {\n",
       "        vertical-align: top;\n",
       "    }\n",
       "\n",
       "    .dataframe thead th {\n",
       "        text-align: right;\n",
       "    }\n",
       "</style>\n",
       "<table border=\"1\" class=\"dataframe\">\n",
       "  <thead>\n",
       "    <tr style=\"text-align: right;\">\n",
       "      <th></th>\n",
       "      <th>unique_id</th>\n",
       "      <th>h1n1_worry</th>\n",
       "      <th>h1n1_awareness</th>\n",
       "      <th>antiviral_medication</th>\n",
       "      <th>contact_avoidance</th>\n",
       "      <th>bought_face_mask</th>\n",
       "      <th>wash_hands_frequently</th>\n",
       "      <th>avoid_large_gatherings</th>\n",
       "      <th>reduced_outside_home_cont</th>\n",
       "      <th>avoid_touch_face</th>\n",
       "      <th>...</th>\n",
       "      <th>race</th>\n",
       "      <th>sex</th>\n",
       "      <th>income_level</th>\n",
       "      <th>marital_status</th>\n",
       "      <th>housing_status</th>\n",
       "      <th>employment</th>\n",
       "      <th>census_msa</th>\n",
       "      <th>no_of_adults</th>\n",
       "      <th>no_of_children</th>\n",
       "      <th>h1n1_vaccine</th>\n",
       "    </tr>\n",
       "  </thead>\n",
       "  <tbody>\n",
       "    <tr>\n",
       "      <th>0</th>\n",
       "      <td>0</td>\n",
       "      <td>1.0</td>\n",
       "      <td>0.0</td>\n",
       "      <td>0.0</td>\n",
       "      <td>0.0</td>\n",
       "      <td>0.0</td>\n",
       "      <td>0.0</td>\n",
       "      <td>0.0</td>\n",
       "      <td>1.0</td>\n",
       "      <td>1.0</td>\n",
       "      <td>...</td>\n",
       "      <td>White</td>\n",
       "      <td>Female</td>\n",
       "      <td>Below Poverty</td>\n",
       "      <td>Not Married</td>\n",
       "      <td>Own</td>\n",
       "      <td>Not in Labor Force</td>\n",
       "      <td>Non-MSA</td>\n",
       "      <td>0.0</td>\n",
       "      <td>0.0</td>\n",
       "      <td>0</td>\n",
       "    </tr>\n",
       "    <tr>\n",
       "      <th>1</th>\n",
       "      <td>1</td>\n",
       "      <td>3.0</td>\n",
       "      <td>2.0</td>\n",
       "      <td>0.0</td>\n",
       "      <td>1.0</td>\n",
       "      <td>0.0</td>\n",
       "      <td>1.0</td>\n",
       "      <td>0.0</td>\n",
       "      <td>1.0</td>\n",
       "      <td>1.0</td>\n",
       "      <td>...</td>\n",
       "      <td>White</td>\n",
       "      <td>Male</td>\n",
       "      <td>Below Poverty</td>\n",
       "      <td>Not Married</td>\n",
       "      <td>Rent</td>\n",
       "      <td>Employed</td>\n",
       "      <td>MSA, Not Principle  City</td>\n",
       "      <td>0.0</td>\n",
       "      <td>0.0</td>\n",
       "      <td>0</td>\n",
       "    </tr>\n",
       "    <tr>\n",
       "      <th>2</th>\n",
       "      <td>2</td>\n",
       "      <td>1.0</td>\n",
       "      <td>1.0</td>\n",
       "      <td>0.0</td>\n",
       "      <td>1.0</td>\n",
       "      <td>0.0</td>\n",
       "      <td>0.0</td>\n",
       "      <td>0.0</td>\n",
       "      <td>0.0</td>\n",
       "      <td>0.0</td>\n",
       "      <td>...</td>\n",
       "      <td>White</td>\n",
       "      <td>Male</td>\n",
       "      <td>&lt;= $75,000, Above Poverty</td>\n",
       "      <td>Not Married</td>\n",
       "      <td>Own</td>\n",
       "      <td>Employed</td>\n",
       "      <td>MSA, Not Principle  City</td>\n",
       "      <td>2.0</td>\n",
       "      <td>0.0</td>\n",
       "      <td>0</td>\n",
       "    </tr>\n",
       "    <tr>\n",
       "      <th>3</th>\n",
       "      <td>3</td>\n",
       "      <td>1.0</td>\n",
       "      <td>1.0</td>\n",
       "      <td>0.0</td>\n",
       "      <td>1.0</td>\n",
       "      <td>0.0</td>\n",
       "      <td>1.0</td>\n",
       "      <td>1.0</td>\n",
       "      <td>0.0</td>\n",
       "      <td>0.0</td>\n",
       "      <td>...</td>\n",
       "      <td>White</td>\n",
       "      <td>Female</td>\n",
       "      <td>Below Poverty</td>\n",
       "      <td>Not Married</td>\n",
       "      <td>Rent</td>\n",
       "      <td>Not in Labor Force</td>\n",
       "      <td>MSA, Principle City</td>\n",
       "      <td>0.0</td>\n",
       "      <td>0.0</td>\n",
       "      <td>0</td>\n",
       "    </tr>\n",
       "    <tr>\n",
       "      <th>4</th>\n",
       "      <td>4</td>\n",
       "      <td>2.0</td>\n",
       "      <td>1.0</td>\n",
       "      <td>0.0</td>\n",
       "      <td>1.0</td>\n",
       "      <td>0.0</td>\n",
       "      <td>1.0</td>\n",
       "      <td>1.0</td>\n",
       "      <td>0.0</td>\n",
       "      <td>1.0</td>\n",
       "      <td>...</td>\n",
       "      <td>White</td>\n",
       "      <td>Female</td>\n",
       "      <td>&lt;= $75,000, Above Poverty</td>\n",
       "      <td>Married</td>\n",
       "      <td>Own</td>\n",
       "      <td>Employed</td>\n",
       "      <td>MSA, Not Principle  City</td>\n",
       "      <td>1.0</td>\n",
       "      <td>0.0</td>\n",
       "      <td>0</td>\n",
       "    </tr>\n",
       "  </tbody>\n",
       "</table>\n",
       "<p>5 rows × 34 columns</p>\n",
       "</div>"
      ],
      "text/plain": [
       "   unique_id  h1n1_worry  h1n1_awareness  antiviral_medication  \\\n",
       "0          0         1.0             0.0                   0.0   \n",
       "1          1         3.0             2.0                   0.0   \n",
       "2          2         1.0             1.0                   0.0   \n",
       "3          3         1.0             1.0                   0.0   \n",
       "4          4         2.0             1.0                   0.0   \n",
       "\n",
       "   contact_avoidance  bought_face_mask  wash_hands_frequently  \\\n",
       "0                0.0               0.0                    0.0   \n",
       "1                1.0               0.0                    1.0   \n",
       "2                1.0               0.0                    0.0   \n",
       "3                1.0               0.0                    1.0   \n",
       "4                1.0               0.0                    1.0   \n",
       "\n",
       "   avoid_large_gatherings  reduced_outside_home_cont  avoid_touch_face  ...  \\\n",
       "0                     0.0                        1.0               1.0  ...   \n",
       "1                     0.0                        1.0               1.0  ...   \n",
       "2                     0.0                        0.0               0.0  ...   \n",
       "3                     1.0                        0.0               0.0  ...   \n",
       "4                     1.0                        0.0               1.0  ...   \n",
       "\n",
       "    race     sex               income_level  marital_status  housing_status  \\\n",
       "0  White  Female              Below Poverty     Not Married             Own   \n",
       "1  White    Male              Below Poverty     Not Married            Rent   \n",
       "2  White    Male  <= $75,000, Above Poverty     Not Married             Own   \n",
       "3  White  Female              Below Poverty     Not Married            Rent   \n",
       "4  White  Female  <= $75,000, Above Poverty         Married             Own   \n",
       "\n",
       "           employment                census_msa  no_of_adults  no_of_children  \\\n",
       "0  Not in Labor Force                   Non-MSA           0.0             0.0   \n",
       "1            Employed  MSA, Not Principle  City           0.0             0.0   \n",
       "2            Employed  MSA, Not Principle  City           2.0             0.0   \n",
       "3  Not in Labor Force       MSA, Principle City           0.0             0.0   \n",
       "4            Employed  MSA, Not Principle  City           1.0             0.0   \n",
       "\n",
       "   h1n1_vaccine  \n",
       "0             0  \n",
       "1             0  \n",
       "2             0  \n",
       "3             0  \n",
       "4             0  \n",
       "\n",
       "[5 rows x 34 columns]"
      ]
     },
     "execution_count": 32,
     "metadata": {},
     "output_type": "execute_result"
    }
   ],
   "source": [
    "df.head()"
   ]
  },
  {
   "cell_type": "code",
   "execution_count": 33,
   "metadata": {},
   "outputs": [
    {
     "data": {
      "text/plain": [
       "unique_id                        0\n",
       "h1n1_worry                      92\n",
       "h1n1_awareness                 116\n",
       "antiviral_medication            71\n",
       "contact_avoidance              208\n",
       "bought_face_mask                19\n",
       "wash_hands_frequently           42\n",
       "avoid_large_gatherings          87\n",
       "reduced_outside_home_cont       82\n",
       "avoid_touch_face               128\n",
       "dr_recc_h1n1_vacc             2160\n",
       "dr_recc_seasonal_vacc         2160\n",
       "chronic_medic_condition        971\n",
       "cont_child_undr_6_mnths        820\n",
       "is_health_worker               804\n",
       "has_health_insur             12274\n",
       "is_h1n1_vacc_effective         391\n",
       "is_h1n1_risky                  388\n",
       "sick_from_h1n1_vacc            395\n",
       "is_seas_vacc_effective         462\n",
       "is_seas_risky                  514\n",
       "sick_from_seas_vacc            537\n",
       "age_bracket                      0\n",
       "qualification                 1407\n",
       "race                             0\n",
       "sex                              0\n",
       "income_level                  4423\n",
       "marital_status                1408\n",
       "housing_status                2042\n",
       "employment                    1463\n",
       "census_msa                       0\n",
       "no_of_adults                   249\n",
       "no_of_children                 249\n",
       "h1n1_vaccine                     0\n",
       "dtype: int64"
      ]
     },
     "execution_count": 33,
     "metadata": {},
     "output_type": "execute_result"
    }
   ],
   "source": [
    "df.isnull().sum()"
   ]
  },
  {
   "cell_type": "code",
   "execution_count": 34,
   "metadata": {},
   "outputs": [
    {
     "data": {
      "text/plain": [
       "0"
      ]
     },
     "execution_count": 34,
     "metadata": {},
     "output_type": "execute_result"
    }
   ],
   "source": [
    "df.duplicated().sum()"
   ]
  },
  {
   "cell_type": "code",
   "execution_count": 35,
   "metadata": {},
   "outputs": [
    {
     "name": "stderr",
     "output_type": "stream",
     "text": [
      "C:\\Users\\saran\\AppData\\Local\\Temp\\ipykernel_8840\\1324638602.py:1: FutureWarning: Dropping of nuisance columns in DataFrame reductions (with 'numeric_only=None') is deprecated; in a future version this will raise TypeError.  Select only valid columns before calling the reduction.\n",
      "  df.fillna(df.median(), inplace=True)\n"
     ]
    }
   ],
   "source": [
    "df.fillna(df.median(), inplace=True)\n",
    "df = round(df)\n",
    "\n",
    "df.fillna(\"No Category\", inplace=True)"
   ]
  },
  {
   "cell_type": "code",
   "execution_count": 36,
   "metadata": {},
   "outputs": [
    {
     "data": {
      "text/plain": [
       "unique_id                    0\n",
       "h1n1_worry                   0\n",
       "h1n1_awareness               0\n",
       "antiviral_medication         0\n",
       "contact_avoidance            0\n",
       "bought_face_mask             0\n",
       "wash_hands_frequently        0\n",
       "avoid_large_gatherings       0\n",
       "reduced_outside_home_cont    0\n",
       "avoid_touch_face             0\n",
       "dr_recc_h1n1_vacc            0\n",
       "dr_recc_seasonal_vacc        0\n",
       "chronic_medic_condition      0\n",
       "cont_child_undr_6_mnths      0\n",
       "is_health_worker             0\n",
       "has_health_insur             0\n",
       "is_h1n1_vacc_effective       0\n",
       "is_h1n1_risky                0\n",
       "sick_from_h1n1_vacc          0\n",
       "is_seas_vacc_effective       0\n",
       "is_seas_risky                0\n",
       "sick_from_seas_vacc          0\n",
       "age_bracket                  0\n",
       "qualification                0\n",
       "race                         0\n",
       "sex                          0\n",
       "income_level                 0\n",
       "marital_status               0\n",
       "housing_status               0\n",
       "employment                   0\n",
       "census_msa                   0\n",
       "no_of_adults                 0\n",
       "no_of_children               0\n",
       "h1n1_vaccine                 0\n",
       "dtype: int64"
      ]
     },
     "execution_count": 36,
     "metadata": {},
     "output_type": "execute_result"
    }
   ],
   "source": [
    "df.isnull().sum()"
   ]
  },
  {
   "cell_type": "code",
   "execution_count": 37,
   "metadata": {},
   "outputs": [],
   "source": [
    "enc = LabelEncoder()\n",
    "\n",
    "df.age_bracket = enc.fit_transform(df.age_bracket)\n",
    "df.qualification = enc.fit_transform(df.qualification)\n",
    "df.race = enc.fit_transform(df.race)\n",
    "df.sex = enc.fit_transform(df.sex)\n",
    "df.income_level = enc.fit_transform(df.income_level)\n",
    "df.marital_status = enc.fit_transform(df.marital_status)\n",
    "df.housing_status = enc.fit_transform(df.housing_status)\n",
    "df.employment = enc.fit_transform(df.employment)\n",
    "df.census_msa = enc.fit_transform(df.census_msa)\n"
   ]
  },
  {
   "cell_type": "code",
   "execution_count": 38,
   "metadata": {},
   "outputs": [
    {
     "data": {
      "text/plain": [
       "unique_id                      int64\n",
       "h1n1_worry                   float64\n",
       "h1n1_awareness               float64\n",
       "antiviral_medication         float64\n",
       "contact_avoidance            float64\n",
       "bought_face_mask             float64\n",
       "wash_hands_frequently        float64\n",
       "avoid_large_gatherings       float64\n",
       "reduced_outside_home_cont    float64\n",
       "avoid_touch_face             float64\n",
       "dr_recc_h1n1_vacc            float64\n",
       "dr_recc_seasonal_vacc        float64\n",
       "chronic_medic_condition      float64\n",
       "cont_child_undr_6_mnths      float64\n",
       "is_health_worker             float64\n",
       "has_health_insur             float64\n",
       "is_h1n1_vacc_effective       float64\n",
       "is_h1n1_risky                float64\n",
       "sick_from_h1n1_vacc          float64\n",
       "is_seas_vacc_effective       float64\n",
       "is_seas_risky                float64\n",
       "sick_from_seas_vacc          float64\n",
       "age_bracket                    int32\n",
       "qualification                  int32\n",
       "race                           int32\n",
       "sex                            int32\n",
       "income_level                   int32\n",
       "marital_status                 int32\n",
       "housing_status                 int32\n",
       "employment                     int32\n",
       "census_msa                     int32\n",
       "no_of_adults                 float64\n",
       "no_of_children               float64\n",
       "h1n1_vaccine                   int64\n",
       "dtype: object"
      ]
     },
     "execution_count": 38,
     "metadata": {},
     "output_type": "execute_result"
    }
   ],
   "source": [
    "df.dtypes"
   ]
  },
  {
   "cell_type": "code",
   "execution_count": 39,
   "metadata": {},
   "outputs": [
    {
     "name": "stdout",
     "output_type": "stream",
     "text": [
      "<class 'pandas.core.frame.DataFrame'>\n",
      "RangeIndex: 26707 entries, 0 to 26706\n",
      "Data columns (total 34 columns):\n",
      " #   Column                     Non-Null Count  Dtype  \n",
      "---  ------                     --------------  -----  \n",
      " 0   unique_id                  26707 non-null  int64  \n",
      " 1   h1n1_worry                 26707 non-null  float64\n",
      " 2   h1n1_awareness             26707 non-null  float64\n",
      " 3   antiviral_medication       26707 non-null  float64\n",
      " 4   contact_avoidance          26707 non-null  float64\n",
      " 5   bought_face_mask           26707 non-null  float64\n",
      " 6   wash_hands_frequently      26707 non-null  float64\n",
      " 7   avoid_large_gatherings     26707 non-null  float64\n",
      " 8   reduced_outside_home_cont  26707 non-null  float64\n",
      " 9   avoid_touch_face           26707 non-null  float64\n",
      " 10  dr_recc_h1n1_vacc          26707 non-null  float64\n",
      " 11  dr_recc_seasonal_vacc      26707 non-null  float64\n",
      " 12  chronic_medic_condition    26707 non-null  float64\n",
      " 13  cont_child_undr_6_mnths    26707 non-null  float64\n",
      " 14  is_health_worker           26707 non-null  float64\n",
      " 15  has_health_insur           26707 non-null  float64\n",
      " 16  is_h1n1_vacc_effective     26707 non-null  float64\n",
      " 17  is_h1n1_risky              26707 non-null  float64\n",
      " 18  sick_from_h1n1_vacc        26707 non-null  float64\n",
      " 19  is_seas_vacc_effective     26707 non-null  float64\n",
      " 20  is_seas_risky              26707 non-null  float64\n",
      " 21  sick_from_seas_vacc        26707 non-null  float64\n",
      " 22  age_bracket                26707 non-null  int32  \n",
      " 23  qualification              26707 non-null  int32  \n",
      " 24  race                       26707 non-null  int32  \n",
      " 25  sex                        26707 non-null  int32  \n",
      " 26  income_level               26707 non-null  int32  \n",
      " 27  marital_status             26707 non-null  int32  \n",
      " 28  housing_status             26707 non-null  int32  \n",
      " 29  employment                 26707 non-null  int32  \n",
      " 30  census_msa                 26707 non-null  int32  \n",
      " 31  no_of_adults               26707 non-null  float64\n",
      " 32  no_of_children             26707 non-null  float64\n",
      " 33  h1n1_vaccine               26707 non-null  int64  \n",
      "dtypes: float64(23), int32(9), int64(2)\n",
      "memory usage: 6.0 MB\n"
     ]
    }
   ],
   "source": [
    "df.info()"
   ]
  },
  {
   "cell_type": "code",
   "execution_count": 40,
   "metadata": {},
   "outputs": [
    {
     "data": {
      "text/html": [
       "<div>\n",
       "<style scoped>\n",
       "    .dataframe tbody tr th:only-of-type {\n",
       "        vertical-align: middle;\n",
       "    }\n",
       "\n",
       "    .dataframe tbody tr th {\n",
       "        vertical-align: top;\n",
       "    }\n",
       "\n",
       "    .dataframe thead th {\n",
       "        text-align: right;\n",
       "    }\n",
       "</style>\n",
       "<table border=\"1\" class=\"dataframe\">\n",
       "  <thead>\n",
       "    <tr style=\"text-align: right;\">\n",
       "      <th></th>\n",
       "      <th>unique_id</th>\n",
       "      <th>h1n1_worry</th>\n",
       "      <th>h1n1_awareness</th>\n",
       "      <th>antiviral_medication</th>\n",
       "      <th>contact_avoidance</th>\n",
       "      <th>bought_face_mask</th>\n",
       "      <th>wash_hands_frequently</th>\n",
       "      <th>avoid_large_gatherings</th>\n",
       "      <th>reduced_outside_home_cont</th>\n",
       "      <th>avoid_touch_face</th>\n",
       "      <th>...</th>\n",
       "      <th>race</th>\n",
       "      <th>sex</th>\n",
       "      <th>income_level</th>\n",
       "      <th>marital_status</th>\n",
       "      <th>housing_status</th>\n",
       "      <th>employment</th>\n",
       "      <th>census_msa</th>\n",
       "      <th>no_of_adults</th>\n",
       "      <th>no_of_children</th>\n",
       "      <th>h1n1_vaccine</th>\n",
       "    </tr>\n",
       "  </thead>\n",
       "  <tbody>\n",
       "    <tr>\n",
       "      <th>count</th>\n",
       "      <td>26707.000000</td>\n",
       "      <td>26707.000000</td>\n",
       "      <td>26707.000000</td>\n",
       "      <td>26707.000000</td>\n",
       "      <td>26707.000000</td>\n",
       "      <td>26707.000000</td>\n",
       "      <td>26707.000000</td>\n",
       "      <td>26707.000000</td>\n",
       "      <td>26707.000000</td>\n",
       "      <td>26707.000000</td>\n",
       "      <td>...</td>\n",
       "      <td>26707.000000</td>\n",
       "      <td>26707.000000</td>\n",
       "      <td>26707.000000</td>\n",
       "      <td>26707.000000</td>\n",
       "      <td>26707.000000</td>\n",
       "      <td>26707.000000</td>\n",
       "      <td>26707.000000</td>\n",
       "      <td>26707.000000</td>\n",
       "      <td>26707.000000</td>\n",
       "      <td>26707.000000</td>\n",
       "    </tr>\n",
       "    <tr>\n",
       "      <th>mean</th>\n",
       "      <td>13353.000000</td>\n",
       "      <td>1.619800</td>\n",
       "      <td>1.261392</td>\n",
       "      <td>0.048714</td>\n",
       "      <td>0.727749</td>\n",
       "      <td>0.068933</td>\n",
       "      <td>0.825888</td>\n",
       "      <td>0.357472</td>\n",
       "      <td>0.336279</td>\n",
       "      <td>0.678811</td>\n",
       "      <td>...</td>\n",
       "      <td>2.570300</td>\n",
       "      <td>0.406223</td>\n",
       "      <td>0.953795</td>\n",
       "      <td>0.932190</td>\n",
       "      <td>1.145542</td>\n",
       "      <td>0.984161</td>\n",
       "      <td>0.833489</td>\n",
       "      <td>0.887558</td>\n",
       "      <td>0.529599</td>\n",
       "      <td>0.212454</td>\n",
       "    </tr>\n",
       "    <tr>\n",
       "      <th>std</th>\n",
       "      <td>7709.791156</td>\n",
       "      <td>0.909016</td>\n",
       "      <td>0.617047</td>\n",
       "      <td>0.215273</td>\n",
       "      <td>0.445127</td>\n",
       "      <td>0.253345</td>\n",
       "      <td>0.379213</td>\n",
       "      <td>0.479264</td>\n",
       "      <td>0.472444</td>\n",
       "      <td>0.466942</td>\n",
       "      <td>...</td>\n",
       "      <td>0.923226</td>\n",
       "      <td>0.491136</td>\n",
       "      <td>1.113444</td>\n",
       "      <td>0.970936</td>\n",
       "      <td>0.526582</td>\n",
       "      <td>1.052723</td>\n",
       "      <td>0.823313</td>\n",
       "      <td>0.749980</td>\n",
       "      <td>0.925264</td>\n",
       "      <td>0.409052</td>\n",
       "    </tr>\n",
       "    <tr>\n",
       "      <th>min</th>\n",
       "      <td>0.000000</td>\n",
       "      <td>0.000000</td>\n",
       "      <td>0.000000</td>\n",
       "      <td>0.000000</td>\n",
       "      <td>0.000000</td>\n",
       "      <td>0.000000</td>\n",
       "      <td>0.000000</td>\n",
       "      <td>0.000000</td>\n",
       "      <td>0.000000</td>\n",
       "      <td>0.000000</td>\n",
       "      <td>...</td>\n",
       "      <td>0.000000</td>\n",
       "      <td>0.000000</td>\n",
       "      <td>0.000000</td>\n",
       "      <td>0.000000</td>\n",
       "      <td>0.000000</td>\n",
       "      <td>0.000000</td>\n",
       "      <td>0.000000</td>\n",
       "      <td>0.000000</td>\n",
       "      <td>0.000000</td>\n",
       "      <td>0.000000</td>\n",
       "    </tr>\n",
       "    <tr>\n",
       "      <th>25%</th>\n",
       "      <td>6676.500000</td>\n",
       "      <td>1.000000</td>\n",
       "      <td>1.000000</td>\n",
       "      <td>0.000000</td>\n",
       "      <td>0.000000</td>\n",
       "      <td>0.000000</td>\n",
       "      <td>1.000000</td>\n",
       "      <td>0.000000</td>\n",
       "      <td>0.000000</td>\n",
       "      <td>0.000000</td>\n",
       "      <td>...</td>\n",
       "      <td>3.000000</td>\n",
       "      <td>0.000000</td>\n",
       "      <td>0.000000</td>\n",
       "      <td>0.000000</td>\n",
       "      <td>1.000000</td>\n",
       "      <td>0.000000</td>\n",
       "      <td>0.000000</td>\n",
       "      <td>0.000000</td>\n",
       "      <td>0.000000</td>\n",
       "      <td>0.000000</td>\n",
       "    </tr>\n",
       "    <tr>\n",
       "      <th>50%</th>\n",
       "      <td>13353.000000</td>\n",
       "      <td>2.000000</td>\n",
       "      <td>1.000000</td>\n",
       "      <td>0.000000</td>\n",
       "      <td>1.000000</td>\n",
       "      <td>0.000000</td>\n",
       "      <td>1.000000</td>\n",
       "      <td>0.000000</td>\n",
       "      <td>0.000000</td>\n",
       "      <td>1.000000</td>\n",
       "      <td>...</td>\n",
       "      <td>3.000000</td>\n",
       "      <td>0.000000</td>\n",
       "      <td>1.000000</td>\n",
       "      <td>0.000000</td>\n",
       "      <td>1.000000</td>\n",
       "      <td>0.000000</td>\n",
       "      <td>1.000000</td>\n",
       "      <td>1.000000</td>\n",
       "      <td>0.000000</td>\n",
       "      <td>0.000000</td>\n",
       "    </tr>\n",
       "    <tr>\n",
       "      <th>75%</th>\n",
       "      <td>20029.500000</td>\n",
       "      <td>2.000000</td>\n",
       "      <td>2.000000</td>\n",
       "      <td>0.000000</td>\n",
       "      <td>1.000000</td>\n",
       "      <td>0.000000</td>\n",
       "      <td>1.000000</td>\n",
       "      <td>1.000000</td>\n",
       "      <td>1.000000</td>\n",
       "      <td>1.000000</td>\n",
       "      <td>...</td>\n",
       "      <td>3.000000</td>\n",
       "      <td>1.000000</td>\n",
       "      <td>2.000000</td>\n",
       "      <td>2.000000</td>\n",
       "      <td>1.000000</td>\n",
       "      <td>2.000000</td>\n",
       "      <td>2.000000</td>\n",
       "      <td>1.000000</td>\n",
       "      <td>1.000000</td>\n",
       "      <td>0.000000</td>\n",
       "    </tr>\n",
       "    <tr>\n",
       "      <th>max</th>\n",
       "      <td>26706.000000</td>\n",
       "      <td>3.000000</td>\n",
       "      <td>2.000000</td>\n",
       "      <td>1.000000</td>\n",
       "      <td>1.000000</td>\n",
       "      <td>1.000000</td>\n",
       "      <td>1.000000</td>\n",
       "      <td>1.000000</td>\n",
       "      <td>1.000000</td>\n",
       "      <td>1.000000</td>\n",
       "      <td>...</td>\n",
       "      <td>3.000000</td>\n",
       "      <td>1.000000</td>\n",
       "      <td>3.000000</td>\n",
       "      <td>2.000000</td>\n",
       "      <td>2.000000</td>\n",
       "      <td>3.000000</td>\n",
       "      <td>2.000000</td>\n",
       "      <td>3.000000</td>\n",
       "      <td>3.000000</td>\n",
       "      <td>1.000000</td>\n",
       "    </tr>\n",
       "  </tbody>\n",
       "</table>\n",
       "<p>8 rows × 34 columns</p>\n",
       "</div>"
      ],
      "text/plain": [
       "          unique_id    h1n1_worry  h1n1_awareness  antiviral_medication  \\\n",
       "count  26707.000000  26707.000000    26707.000000          26707.000000   \n",
       "mean   13353.000000      1.619800        1.261392              0.048714   \n",
       "std     7709.791156      0.909016        0.617047              0.215273   \n",
       "min        0.000000      0.000000        0.000000              0.000000   \n",
       "25%     6676.500000      1.000000        1.000000              0.000000   \n",
       "50%    13353.000000      2.000000        1.000000              0.000000   \n",
       "75%    20029.500000      2.000000        2.000000              0.000000   \n",
       "max    26706.000000      3.000000        2.000000              1.000000   \n",
       "\n",
       "       contact_avoidance  bought_face_mask  wash_hands_frequently  \\\n",
       "count       26707.000000      26707.000000           26707.000000   \n",
       "mean            0.727749          0.068933               0.825888   \n",
       "std             0.445127          0.253345               0.379213   \n",
       "min             0.000000          0.000000               0.000000   \n",
       "25%             0.000000          0.000000               1.000000   \n",
       "50%             1.000000          0.000000               1.000000   \n",
       "75%             1.000000          0.000000               1.000000   \n",
       "max             1.000000          1.000000               1.000000   \n",
       "\n",
       "       avoid_large_gatherings  reduced_outside_home_cont  avoid_touch_face  \\\n",
       "count            26707.000000               26707.000000      26707.000000   \n",
       "mean                 0.357472                   0.336279          0.678811   \n",
       "std                  0.479264                   0.472444          0.466942   \n",
       "min                  0.000000                   0.000000          0.000000   \n",
       "25%                  0.000000                   0.000000          0.000000   \n",
       "50%                  0.000000                   0.000000          1.000000   \n",
       "75%                  1.000000                   1.000000          1.000000   \n",
       "max                  1.000000                   1.000000          1.000000   \n",
       "\n",
       "       ...          race           sex  income_level  marital_status  \\\n",
       "count  ...  26707.000000  26707.000000  26707.000000    26707.000000   \n",
       "mean   ...      2.570300      0.406223      0.953795        0.932190   \n",
       "std    ...      0.923226      0.491136      1.113444        0.970936   \n",
       "min    ...      0.000000      0.000000      0.000000        0.000000   \n",
       "25%    ...      3.000000      0.000000      0.000000        0.000000   \n",
       "50%    ...      3.000000      0.000000      1.000000        0.000000   \n",
       "75%    ...      3.000000      1.000000      2.000000        2.000000   \n",
       "max    ...      3.000000      1.000000      3.000000        2.000000   \n",
       "\n",
       "       housing_status    employment    census_msa  no_of_adults  \\\n",
       "count    26707.000000  26707.000000  26707.000000  26707.000000   \n",
       "mean         1.145542      0.984161      0.833489      0.887558   \n",
       "std          0.526582      1.052723      0.823313      0.749980   \n",
       "min          0.000000      0.000000      0.000000      0.000000   \n",
       "25%          1.000000      0.000000      0.000000      0.000000   \n",
       "50%          1.000000      0.000000      1.000000      1.000000   \n",
       "75%          1.000000      2.000000      2.000000      1.000000   \n",
       "max          2.000000      3.000000      2.000000      3.000000   \n",
       "\n",
       "       no_of_children  h1n1_vaccine  \n",
       "count    26707.000000  26707.000000  \n",
       "mean         0.529599      0.212454  \n",
       "std          0.925264      0.409052  \n",
       "min          0.000000      0.000000  \n",
       "25%          0.000000      0.000000  \n",
       "50%          0.000000      0.000000  \n",
       "75%          1.000000      0.000000  \n",
       "max          3.000000      1.000000  \n",
       "\n",
       "[8 rows x 34 columns]"
      ]
     },
     "execution_count": 40,
     "metadata": {},
     "output_type": "execute_result"
    }
   ],
   "source": [
    "df.describe()"
   ]
  },
  {
   "cell_type": "code",
   "execution_count": 41,
   "metadata": {},
   "outputs": [],
   "source": [
    "df.drop('unique_id', axis=1, inplace=True)"
   ]
  },
  {
   "cell_type": "markdown",
   "metadata": {},
   "source": [
    "Linear Regression"
   ]
  },
  {
   "cell_type": "code",
   "execution_count": 69,
   "metadata": {},
   "outputs": [
    {
     "data": {
      "text/plain": [
       "0.25721742945359916"
      ]
     },
     "execution_count": 69,
     "metadata": {},
     "output_type": "execute_result"
    }
   ],
   "source": [
    "x = df.drop(['h1n1_vaccine'], axis=1)\n",
    "y = df[['h1n1_vaccine']]\n",
    "\n",
    "x_train, x_test, y_train, y_test = train_test_split(x, y, test_size=0.30, random_state=1)\n",
    "\n",
    "lin_reg = LinearRegression(n_jobs=100, normalize='deprecated')\n",
    "lin_reg.fit(x_train, y_train)\n",
    "\n",
    "lin_reg.score(x_train, y_train)"
   ]
  },
  {
   "cell_type": "code",
   "execution_count": 70,
   "metadata": {},
   "outputs": [
    {
     "data": {
      "text/plain": [
       "0.27345436796049627"
      ]
     },
     "execution_count": 70,
     "metadata": {},
     "output_type": "execute_result"
    }
   ],
   "source": [
    "lin_reg.score(x_test, y_test)\n"
   ]
  },
  {
   "cell_type": "code",
   "execution_count": 71,
   "metadata": {},
   "outputs": [
    {
     "data": {
      "text/plain": [
       "0.27345436796049627"
      ]
     },
     "execution_count": 71,
     "metadata": {},
     "output_type": "execute_result"
    }
   ],
   "source": [
    "predict = lin_reg.predict(x_test)\n",
    "r2_score(y_test, predict)"
   ]
  },
  {
   "cell_type": "markdown",
   "metadata": {},
   "source": [
    "Random Forest Regression"
   ]
  },
  {
   "cell_type": "code",
   "execution_count": 146,
   "metadata": {},
   "outputs": [
    {
     "data": {
      "text/plain": [
       "0.3593152205355322"
      ]
     },
     "execution_count": 146,
     "metadata": {},
     "output_type": "execute_result"
    }
   ],
   "source": [
    "ran_reg = RandomForestRegressor(n_estimators=100, max_features=11, max_depth=8)\n",
    "ran_reg.fit(x_train, y_train)\n",
    "\n",
    "ran_reg.score(x_train, y_train)"
   ]
  },
  {
   "cell_type": "code",
   "execution_count": 147,
   "metadata": {},
   "outputs": [
    {
     "data": {
      "text/plain": [
       "0.3026730896028741"
      ]
     },
     "execution_count": 147,
     "metadata": {},
     "output_type": "execute_result"
    }
   ],
   "source": [
    "ran_reg.score(x_test, y_test)\n"
   ]
  },
  {
   "cell_type": "code",
   "execution_count": 148,
   "metadata": {},
   "outputs": [
    {
     "data": {
      "text/plain": [
       "0.3026730896028741"
      ]
     },
     "execution_count": 148,
     "metadata": {},
     "output_type": "execute_result"
    }
   ],
   "source": [
    "predict = ran_reg.predict(x_test)\n",
    "r2_score(y_test, predict)"
   ]
  },
  {
   "cell_type": "markdown",
   "metadata": {},
   "source": [
    "Decision Tree Regression"
   ]
  },
  {
   "cell_type": "code",
   "execution_count": 198,
   "metadata": {},
   "outputs": [
    {
     "data": {
      "text/plain": [
       "0.30361379874817007"
      ]
     },
     "execution_count": 198,
     "metadata": {},
     "output_type": "execute_result"
    }
   ],
   "source": [
    "tree_reg = DecisionTreeRegressor(max_depth=7, max_features=25, min_samples_split=6)\n",
    "tree_reg.fit(x_train, y_train)\n",
    "\n",
    "tree_reg.score(x_train, y_train)"
   ]
  },
  {
   "cell_type": "code",
   "execution_count": 199,
   "metadata": {},
   "outputs": [
    {
     "data": {
      "text/plain": [
       "0.27055373489648826"
      ]
     },
     "execution_count": 199,
     "metadata": {},
     "output_type": "execute_result"
    }
   ],
   "source": [
    "tree_reg.score(x_test, y_test)\n"
   ]
  },
  {
   "cell_type": "code",
   "execution_count": 200,
   "metadata": {},
   "outputs": [
    {
     "data": {
      "text/plain": [
       "0.27055373489648826"
      ]
     },
     "execution_count": 200,
     "metadata": {},
     "output_type": "execute_result"
    }
   ],
   "source": [
    "predict = tree_reg.predict(x_test)\n",
    "r2_score(y_test, predict)"
   ]
  },
  {
   "cell_type": "markdown",
   "metadata": {},
   "source": [
    "AdaBoost Regression"
   ]
  },
  {
   "cell_type": "code",
   "execution_count": 230,
   "metadata": {},
   "outputs": [
    {
     "data": {
      "text/plain": [
       "0.23251254027773982"
      ]
     },
     "execution_count": 230,
     "metadata": {},
     "output_type": "execute_result"
    }
   ],
   "source": [
    "ada_reg = AdaBoostRegressor(n_estimators=200, learning_rate=3, )\n",
    "ada_reg.fit(x_train, y_train)\n",
    "\n",
    "ada_reg.score(x_train, y_train)"
   ]
  },
  {
   "cell_type": "code",
   "execution_count": 231,
   "metadata": {},
   "outputs": [
    {
     "data": {
      "text/plain": [
       "0.25698399696082974"
      ]
     },
     "execution_count": 231,
     "metadata": {},
     "output_type": "execute_result"
    }
   ],
   "source": [
    "ada_reg.score(x_test, y_test)\n"
   ]
  },
  {
   "cell_type": "code",
   "execution_count": 232,
   "metadata": {},
   "outputs": [
    {
     "data": {
      "text/plain": [
       "0.25698399696082974"
      ]
     },
     "execution_count": 232,
     "metadata": {},
     "output_type": "execute_result"
    }
   ],
   "source": [
    "predict = ada_reg.predict(x_test)\n",
    "r2_score(y_test, predict)"
   ]
  },
  {
   "cell_type": "markdown",
   "metadata": {},
   "source": [
    "Bagging Regression"
   ]
  },
  {
   "cell_type": "code",
   "execution_count": 283,
   "metadata": {},
   "outputs": [
    {
     "data": {
      "text/plain": [
       "0.3335408100588583"
      ]
     },
     "execution_count": 283,
     "metadata": {},
     "output_type": "execute_result"
    }
   ],
   "source": [
    "bag_reg = BaggingRegressor(n_estimators=100, max_samples=10000, base_estimator=tree_reg)\n",
    "bag_reg.fit(x_train, y_train)\n",
    "\n",
    "bag_reg.score(x_train, y_train)"
   ]
  },
  {
   "cell_type": "code",
   "execution_count": 284,
   "metadata": {},
   "outputs": [
    {
     "data": {
      "text/plain": [
       "0.3046268650227888"
      ]
     },
     "execution_count": 284,
     "metadata": {},
     "output_type": "execute_result"
    }
   ],
   "source": [
    "bag_reg.score(x_test, y_test)\n"
   ]
  },
  {
   "cell_type": "code",
   "execution_count": 285,
   "metadata": {},
   "outputs": [
    {
     "data": {
      "text/plain": [
       "0.3046268650227888"
      ]
     },
     "execution_count": 285,
     "metadata": {},
     "output_type": "execute_result"
    }
   ],
   "source": [
    "predict = bag_reg.predict(x_test)\n",
    "r2_score(y_test, predict)"
   ]
  }
 ],
 "metadata": {
  "kernelspec": {
   "display_name": "Python 3.9.12 ('base')",
   "language": "python",
   "name": "python3"
  },
  "language_info": {
   "codemirror_mode": {
    "name": "ipython",
    "version": 3
   },
   "file_extension": ".py",
   "mimetype": "text/x-python",
   "name": "python",
   "nbconvert_exporter": "python",
   "pygments_lexer": "ipython3",
   "version": "3.9.12"
  },
  "orig_nbformat": 4,
  "vscode": {
   "interpreter": {
    "hash": "acc40203db69822aee81a1f5c97f01141a9ea0bbdce4781554130f3bf494f49d"
   }
  }
 },
 "nbformat": 4,
 "nbformat_minor": 2
}
